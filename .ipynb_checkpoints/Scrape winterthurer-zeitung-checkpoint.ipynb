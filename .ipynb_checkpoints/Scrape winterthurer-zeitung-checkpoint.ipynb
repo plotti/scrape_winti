{
 "cells": [
  {
   "cell_type": "code",
   "execution_count": 2,
   "id": "a42d5df6",
   "metadata": {},
   "outputs": [],
   "source": [
    "from pathlib import Path\n",
    "import datetime\n",
    "import pytz\n",
    "from itertools import chain\n",
    "import requests\n",
    "from bs4 import BeautifulSoup"
   ]
  },
  {
   "cell_type": "code",
   "execution_count": 9,
   "id": "fb0b409c",
   "metadata": {},
   "outputs": [],
   "source": [
    "html_content = requests.get(\"https://www.winterthurer-zeitung.ch/\").text\n",
    "soup = BeautifulSoup(html_content)"
   ]
  },
  {
   "cell_type": "code",
   "execution_count": 34,
   "id": "4c171ddf",
   "metadata": {},
   "outputs": [
    {
     "data": {
      "text/plain": [
       "'Letzte Jungkunst in der Halle 53'"
      ]
     },
     "execution_count": 34,
     "metadata": {},
     "output_type": "execute_result"
    }
   ],
   "source": [
    "main_headline = soup.select(\".article.articletype-0.mod_nachrichtenBoxGross h2 a\")[0].text.strip()\n",
    "main_headline"
   ]
  }
 ],
 "metadata": {
  "kernelspec": {
   "display_name": "aaa",
   "language": "python",
   "name": "aaa"
  },
  "language_info": {
   "codemirror_mode": {
    "name": "ipython",
    "version": 3
   },
   "file_extension": ".py",
   "mimetype": "text/x-python",
   "name": "python",
   "nbconvert_exporter": "python",
   "pygments_lexer": "ipython3",
   "version": "3.8.13"
  }
 },
 "nbformat": 4,
 "nbformat_minor": 5
}
